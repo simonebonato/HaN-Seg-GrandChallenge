{
 "cells": [
  {
   "attachments": {},
   "cell_type": "markdown",
   "metadata": {},
   "source": [
    "# Imports"
   ]
  },
  {
   "cell_type": "code",
   "execution_count": 6,
   "metadata": {},
   "outputs": [],
   "source": [
    "import numpy as np\n",
    "import nibabel as nib\n",
    "import lightning.pytorch as Lit\n",
    "import matplotlib.pyplot as plt\n",
    "import torch\n",
    "import nrrd\n",
    "import os\n",
    "import re"
   ]
  },
  {
   "attachments": {},
   "cell_type": "markdown",
   "metadata": {},
   "source": [
    "# Data exploration"
   ]
  },
  {
   "cell_type": "code",
   "execution_count": 29,
   "metadata": {},
   "outputs": [
    {
     "name": "stdout",
     "output_type": "stream",
     "text": [
      "Example header of file 'case_01_OAR_A_Carotid_R.seg.nrrd'\n",
      "\n",
      "type :  unsigned char\n",
      "dimension :  3\n",
      "space :  left-posterior-superior\n",
      "sizes :  [1024 1024  202]\n",
      "space directions :  [[0.55761719 0.         0.        ]\n",
      " [0.         0.55761719 0.        ]\n",
      " [0.         0.         2.        ]]\n",
      "kinds :  ['domain', 'domain', 'domain']\n",
      "encoding :  gzip\n",
      "space origin :  [-285.5 -207.5 -759. ]\n",
      "Unique values: [0 1]\n"
     ]
    }
   ],
   "source": [
    "folder_path = \"data\\HaN-Seg\\case_01\"\n",
    "files = [file for file in os.listdir(folder_path) if file.endswith(\".nrrd\")]\n",
    "sample_file = files[4]\n",
    "\n",
    "# read a nrdd file and print the header and shape\n",
    "data, header = nrrd.read(os.path.join(folder_path, sample_file))\n",
    "\n",
    "print(f\"Example header of file '{sample_file}'\\n\")\n",
    "for key in header.keys():\n",
    "    print(key, \": \", header[key])"
   ]
  },
  {
   "attachments": {},
   "cell_type": "markdown",
   "metadata": {},
   "source": [
    "## Merge all the segmentation files into a single one and move them to the right folders"
   ]
  },
  {
   "cell_type": "code",
   "execution_count": 49,
   "metadata": {},
   "outputs": [],
   "source": [
    "import shutil\n",
    "import json\n",
    "from utils.file_reading import merge_segmentations\n",
    "\n",
    "# leave false if you have already done it once\n",
    "merge_segmentations = False\n",
    "\n",
    "data_folder = \"data\"\n",
    "HaN_folder = \"data/HaN-Seg\"\n",
    "imagesTr_folder = \"data/imagesTr/\"\n",
    "labelsTr_folder = \"data/labelsTr/\"\n",
    "\n",
    "if merge_segmentations:\n",
    "    # copies the CT and MRI to the imagesTr folder and merges the segmentations to the labelsTr folder\n",
    "    for case in os.listdir(HaN_folder):\n",
    "        case_path = os.path.join(HaN_folder, case)\n",
    "        if os.path.isdir(case_path):\n",
    "            print(case_path)\n",
    "\n",
    "            # copy the images to the imagesTr folder\n",
    "            for file in os.listdir(case_path):\n",
    "                if \"IMG\" in file:\n",
    "                    shutil.copy(os.path.join(case_path, file), imagesTr_folder)\n",
    "\n",
    "            # merge the labels and copy them to the labelsTr folder\n",
    "            segmentation_files = [file for file in os.listdir(case_path) if \"OAR\" in file]\n",
    "            merged_segmentation, names_dict = merge_segmentations(case_path, segmentation_files)\n",
    "\n",
    "            # save the merged segmentation in the labelsTr folder\n",
    "            nrrd.write(os.path.join(labelsTr_folder, f\"{case}_segmentation.nrrd\"), merged_segmentation)\n",
    "        \n",
    "    # save the names dictionary in a json file in the data folder\n",
    "    with open(os.path.join(data_folder, \"names_dict.json\"), \"w\") as f:\n",
    "        json.dump(names_dict, f, indent=4)\n",
    "                "
   ]
  }
 ],
 "metadata": {
  "kernelspec": {
   "display_name": "torch-v2-gpu",
   "language": "python",
   "name": "python3"
  },
  "language_info": {
   "codemirror_mode": {
    "name": "ipython",
    "version": 3
   },
   "file_extension": ".py",
   "mimetype": "text/x-python",
   "name": "python",
   "nbconvert_exporter": "python",
   "pygments_lexer": "ipython3",
   "version": "3.9.16"
  },
  "orig_nbformat": 4
 },
 "nbformat": 4,
 "nbformat_minor": 2
}
